{
 "cells": [
  {
   "cell_type": "markdown",
   "metadata": {},
   "source": [
    "#import pandas,numpy,pymsyql"
   ]
  },
  {
   "cell_type": "code",
   "execution_count": 1,
   "metadata": {},
   "outputs": [],
   "source": [
    "import pandas as pd\n",
    "import numpy as np\n",
    "import pymysql"
   ]
  },
  {
   "cell_type": "markdown",
   "metadata": {},
   "source": [
    "#connect to Mysql"
   ]
  },
  {
   "cell_type": "code",
   "execution_count": 2,
   "metadata": {},
   "outputs": [],
   "source": [
    "def get_data(db_name, sql):\n",
    "    db = pymysql.connect(host=\"localhost\", port=3306, user=\"root\", passwd=\"root\", db=db_name, charset=\"gbk\")\n",
    "    cursor = db.cursor()\n",
    "    cursor.execute(sql)\n",
    "    results = cursor.fetchall()\n",
    "    cursor.close()\n",
    "    return results"
   ]
  },
  {
   "cell_type": "markdown",
   "metadata": {},
   "source": [
    "#merge"
   ]
  },
  {
   "cell_type": "code",
   "execution_count": 3,
   "metadata": {},
   "outputs": [],
   "source": [
    "def merge_output(list_a, list_b_name, left_colname, right_colname, way, output_name):\n",
    "    list_b = pd.read_csv(list_b_name, encoding=\"gbk\")\n",
    "    list_a_with_b = pd.merge(list_a, list_b, left_on=left_colname, right_on=right_colname, how=way)\n",
    "    list_a_with_b.to_csv(output_name, encoding=\"gbk\")"
   ]
  },
  {
   "cell_type": "code",
   "execution_count": null,
   "metadata": {},
   "outputs": [],
   "source": [
    "db_name = \"月报（备份）\"\n",
    "sql = \"\"\"SELECT *,CONCAT(`城市_c`,`城市_e`,`城市_q`,`商业区_c`,`商业区_e`,`商业区_q`,`星级`) as 'new_col'\n",
    "FROM `战区月报2016-2017_星级`\n",
    "WHERE `省长`='任奇宇' AND `星级`>2\"\"\"\n",
    "col_names = [\"zq\", \"sz\", \"qy\", \"pro_c\", \"pro_e\", \"pro_q\", \"city_c\", \"city_e\", \"city_q\", \"xz_c\", \"xz_e\", \"xz_q\", \"sq_c\",\n",
    "             \"sq_e\", \"sq_q\", \"cid\", \"eid\", \"qid\", \"name\", \"star\", \"pay\", \"saleplatform\", \"RN\", \"sales_1\", \"sales_2\",\n",
    "             \"sales_3\", \"month\", \"year\", \"belongto\", \"combine\"]\n",
    "list_b_name = \"SC.csv\"\n",
    "left_colname = \"combine\"\n",
    "right_colname = \"合并\"\n",
    "way = \"left\"\n",
    "output_name = \"final_2.csv\""
   ]
  },
  {
   "cell_type": "markdown",
   "metadata": {},
   "source": [
    "#get_list_a"
   ]
  },
  {
   "cell_type": "code",
   "execution_count": null,
   "metadata": {},
   "outputs": [],
   "source": [
    "results_list = get_data(db_name,sql)\n",
    "list_a_np = np.array(results_list)\n",
    "list_a = pd.DataFrame(list_a_np,columns=col_names)"
   ]
  },
  {
   "cell_type": "markdown",
   "metadata": {},
   "source": [
    "#output the results in csv"
   ]
  },
  {
   "cell_type": "code",
   "execution_count": null,
   "metadata": {},
   "outputs": [],
   "source": [
    "merge_output(list_a, list_b_name, left_colname, right_colname, way, output_name)"
   ]
  }
 ],
 "metadata": {
  "kernelspec": {
   "display_name": "Python 3",
   "language": "python",
   "name": "python3"
  },
  "language_info": {
   "codemirror_mode": {
    "name": "ipython",
    "version": 3
   },
   "file_extension": ".py",
   "mimetype": "text/x-python",
   "name": "python",
   "nbconvert_exporter": "python",
   "pygments_lexer": "ipython3",
   "version": "3.6.3"
  }
 },
 "nbformat": 4,
 "nbformat_minor": 2
}
